{
 "cells": [
  {
   "cell_type": "code",
   "execution_count": null,
   "metadata": {},
   "outputs": [],
   "source": [
    "# Simple Function\n",
    "def search_twitter(n):\n",
    "\tdata = []\n",
    "\tfor row in range(1,n):\n",
    "\t\tdata.append(row)\n",
    "\treturn data\n",
    "\n",
    "for row in search_twitter(100):\n",
    "\tprint(row)"
   ]
  },
  {
   "cell_type": "code",
   "execution_count": null,
   "metadata": {},
   "outputs": [],
   "source": [
    "# genrator function\n",
    "def search_twitter(n):\n",
    "    data = []\n",
    "    for num in range(1,n):\n",
    "        yield num\n",
    "\n",
    "for row in search_twitter(100):\n",
    "\tprint(row)"
   ]
  }
 ],
 "metadata": {
  "kernelspec": {
   "display_name": "Python 3",
   "language": "python",
   "name": "python3"
  },
  "language_info": {
   "codemirror_mode": {
    "name": "ipython",
    "version": 3
   },
   "file_extension": ".py",
   "mimetype": "text/x-python",
   "name": "python",
   "nbconvert_exporter": "python",
   "pygments_lexer": "ipython3",
   "version": "3.9.6"
  }
 },
 "nbformat": 4,
 "nbformat_minor": 2
}
